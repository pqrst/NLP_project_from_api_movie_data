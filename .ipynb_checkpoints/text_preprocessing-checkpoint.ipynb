{
 "cells": [
  {
   "cell_type": "code",
   "execution_count": 1,
   "id": "3d657967-c9fb-4e99-a033-2192369b3f22",
   "metadata": {},
   "outputs": [],
   "source": [
    "# !pip install requests\n",
    "# !pip install textblob\n",
    "# !pip install emoji\n",
    "# !pip install spacy==3.7.2\n",
    "# !pip install pydantic==1.9.0\n",
    "# !python -m spacy download en_core_web_sm"
   ]
  },
  {
   "cell_type": "code",
   "execution_count": 2,
   "id": "b13d792b-9b65-4fbb-a85a-c77775874660",
   "metadata": {},
   "outputs": [],
   "source": [
    "import requests\n",
    "import json\n",
    "import ast\n",
    "import re\n",
    "import pandas as pd\n",
    "import string,time\n",
    "import emoji\n",
    "import spacy\n",
    "import string\n",
    "\n",
    "from textblob import TextBlob\n",
    "from nltk.corpus import stopwords\n",
    "from nltk.stem.porter import PorterStemmer\n",
    "from nltk.tokenize import word_tokenize"
   ]
  },
  {
   "cell_type": "code",
   "execution_count": 3,
   "id": "9a7ce39f-752c-4d15-b1b4-06df39d7cc5b",
   "metadata": {},
   "outputs": [],
   "source": [
    "df = pd.read_csv('data/movie_review_data_with_genre_from_api.csv')"
   ]
  },
  {
   "cell_type": "code",
   "execution_count": 4,
   "id": "d905bab3-0090-4d2e-b6eb-8950a73796f2",
   "metadata": {},
   "outputs": [
    {
     "data": {
      "text/html": [
       "<div>\n",
       "<style scoped>\n",
       "    .dataframe tbody tr th:only-of-type {\n",
       "        vertical-align: middle;\n",
       "    }\n",
       "\n",
       "    .dataframe tbody tr th {\n",
       "        vertical-align: top;\n",
       "    }\n",
       "\n",
       "    .dataframe thead th {\n",
       "        text-align: right;\n",
       "    }\n",
       "</style>\n",
       "<table border=\"1\" class=\"dataframe\">\n",
       "  <thead>\n",
       "    <tr style=\"text-align: right;\">\n",
       "      <th></th>\n",
       "      <th>Unnamed: 0</th>\n",
       "      <th>original_title</th>\n",
       "      <th>overview</th>\n",
       "      <th>genre_ids</th>\n",
       "      <th>genre_names</th>\n",
       "    </tr>\n",
       "  </thead>\n",
       "  <tbody>\n",
       "    <tr>\n",
       "      <th>9995</th>\n",
       "      <td>9995</td>\n",
       "      <td>The Last Airbender</td>\n",
       "      <td>The story follows the adventures of Aang, a yo...</td>\n",
       "      <td>[28, 12, 14]</td>\n",
       "      <td>Action, Adventure, Fantasy</td>\n",
       "    </tr>\n",
       "    <tr>\n",
       "      <th>9996</th>\n",
       "      <td>9996</td>\n",
       "      <td>From Dusk Till Dawn 2: Texas Blood Money</td>\n",
       "      <td>A bank-robbing gang of misfits heads to Mexico...</td>\n",
       "      <td>[80, 28, 27, 53]</td>\n",
       "      <td>Crime, Action, Horror, Thriller</td>\n",
       "    </tr>\n",
       "    <tr>\n",
       "      <th>9997</th>\n",
       "      <td>9997</td>\n",
       "      <td>Cage Dive</td>\n",
       "      <td>Three friends from California are filming an a...</td>\n",
       "      <td>[27, 18, 53]</td>\n",
       "      <td>Horror, Drama, Thriller</td>\n",
       "    </tr>\n",
       "    <tr>\n",
       "      <th>9998</th>\n",
       "      <td>9998</td>\n",
       "      <td>Street Fighter</td>\n",
       "      <td>Col. Guile and various other martial arts hero...</td>\n",
       "      <td>[28, 12, 35, 53]</td>\n",
       "      <td>Action, Adventure, Comedy, Thriller</td>\n",
       "    </tr>\n",
       "    <tr>\n",
       "      <th>9999</th>\n",
       "      <td>9999</td>\n",
       "      <td>Devil's Due</td>\n",
       "      <td>An unexpected pregnancy takes a terrifying tur...</td>\n",
       "      <td>[27]</td>\n",
       "      <td>Horror</td>\n",
       "    </tr>\n",
       "  </tbody>\n",
       "</table>\n",
       "</div>"
      ],
      "text/plain": [
       "      Unnamed: 0                            original_title  \\\n",
       "9995        9995                        The Last Airbender   \n",
       "9996        9996  From Dusk Till Dawn 2: Texas Blood Money   \n",
       "9997        9997                                 Cage Dive   \n",
       "9998        9998                            Street Fighter   \n",
       "9999        9999                               Devil's Due   \n",
       "\n",
       "                                               overview         genre_ids  \\\n",
       "9995  The story follows the adventures of Aang, a yo...      [28, 12, 14]   \n",
       "9996  A bank-robbing gang of misfits heads to Mexico...  [80, 28, 27, 53]   \n",
       "9997  Three friends from California are filming an a...      [27, 18, 53]   \n",
       "9998  Col. Guile and various other martial arts hero...  [28, 12, 35, 53]   \n",
       "9999  An unexpected pregnancy takes a terrifying tur...              [27]   \n",
       "\n",
       "                              genre_names  \n",
       "9995           Action, Adventure, Fantasy  \n",
       "9996      Crime, Action, Horror, Thriller  \n",
       "9997              Horror, Drama, Thriller  \n",
       "9998  Action, Adventure, Comedy, Thriller  \n",
       "9999                               Horror  "
      ]
     },
     "execution_count": 4,
     "metadata": {},
     "output_type": "execute_result"
    }
   ],
   "source": [
    "df.tail()"
   ]
  },
  {
   "cell_type": "code",
   "execution_count": 5,
   "id": "32094f52-f70f-4efd-bdc0-92659b855649",
   "metadata": {},
   "outputs": [
    {
     "data": {
      "text/plain": [
       "(10000, 5)"
      ]
     },
     "execution_count": 5,
     "metadata": {},
     "output_type": "execute_result"
    }
   ],
   "source": [
    "df.shape"
   ]
  },
  {
   "cell_type": "code",
   "execution_count": 6,
   "id": "c78c6903-2d0d-4a4d-a74d-6deb01dd0e77",
   "metadata": {},
   "outputs": [
    {
     "name": "stdout",
     "output_type": "stream",
     "text": [
      "<class 'pandas.core.frame.DataFrame'>\n",
      "RangeIndex: 10000 entries, 0 to 9999\n",
      "Data columns (total 5 columns):\n",
      " #   Column          Non-Null Count  Dtype \n",
      "---  ------          --------------  ----- \n",
      " 0   Unnamed: 0      10000 non-null  int64 \n",
      " 1   original_title  10000 non-null  object\n",
      " 2   overview        9999 non-null   object\n",
      " 3   genre_ids       10000 non-null  object\n",
      " 4   genre_names     9997 non-null   object\n",
      "dtypes: int64(1), object(4)\n",
      "memory usage: 390.8+ KB\n"
     ]
    }
   ],
   "source": [
    "df.info()"
   ]
  },
  {
   "cell_type": "code",
   "execution_count": 7,
   "id": "20a3b649-be5c-4916-9bfb-d64db0447158",
   "metadata": {},
   "outputs": [
    {
     "data": {
      "text/plain": [
       "'the true story of how businessman oskar schindler saved over a thousand jewish lives from the nazis while they worked as slaves in his factory during world war ii.'"
      ]
     },
     "execution_count": 7,
     "metadata": {},
     "output_type": "execute_result"
    }
   ],
   "source": [
    "df['overview'][3].lower()"
   ]
  },
  {
   "cell_type": "markdown",
   "id": "10a60e6d-503f-4fb3-94c4-ea07461bd968",
   "metadata": {},
   "source": [
    "## 1. Remove Punctuations"
   ]
  },
  {
   "cell_type": "code",
   "execution_count": 8,
   "id": "d1c6b2cd-380a-4299-8bd8-941176296913",
   "metadata": {},
   "outputs": [
    {
     "data": {
      "text/plain": [
       "'!\"#$%&\\'()*+,-./:;<=>?@[\\\\]^_`{|}~'"
      ]
     },
     "execution_count": 8,
     "metadata": {},
     "output_type": "execute_result"
    }
   ],
   "source": [
    "string.punctuation"
   ]
  },
  {
   "cell_type": "code",
   "execution_count": 9,
   "id": "9769d57a-a924-457f-9856-8a13452d6016",
   "metadata": {},
   "outputs": [],
   "source": [
    "exclude = string.punctuation\n",
    "\n",
    "def remove_punc(text):\n",
    "    if not isinstance(text, str):\n",
    "        return \"\"\n",
    "    return text.translate(str.maketrans('', '', exclude))\n",
    "\n",
    "df['description_corrected'] = df['overview'].apply(remove_punc)"
   ]
  },
  {
   "cell_type": "code",
   "execution_count": 10,
   "id": "3ff59714-a053-4cae-84d8-956eb6305e3a",
   "metadata": {},
   "outputs": [
    {
     "data": {
      "text/plain": [
       "'A young girl Chihiro becomes trapped in a strange new world of spirits When her parents undergo a mysterious transformation she must call upon the courage she never knew she had to free her family'"
      ]
     },
     "execution_count": 10,
     "metadata": {},
     "output_type": "execute_result"
    }
   ],
   "source": [
    "df['description_corrected'][5]"
   ]
  },
  {
   "cell_type": "markdown",
   "id": "e6166dbf-f92c-4bda-81ab-9395caac89df",
   "metadata": {},
   "source": [
    "## 2. Chat Word Treatment"
   ]
  },
  {
   "cell_type": "code",
   "execution_count": 11,
   "id": "284dd15f-d336-4716-9655-6336bff147e0",
   "metadata": {},
   "outputs": [],
   "source": [
    "# Open and read the chat_words.txt file\n",
    "file_path = 'D:/oishee/jobs/2025/NLP/kaggle_movie_review/datasets/slang.txt'\n",
    "\n",
    "# Create an empty dictionary\n",
    "chat_words = {}\n",
    "\n",
    "# Read and process the file\n",
    "with open(file_path, 'r', encoding='utf-8') as file:\n",
    "     for line in file:\n",
    "        if line.strip():\n",
    "            parts = re.split(r'\\s*[:=–—\\-]{1,2}>\\s*|\\s*[:=–—\\-]\\s*', line.strip(), maxsplit=1)\n",
    "            if len(parts) == 2:\n",
    "                key, value = parts\n",
    "                chat_words[key.strip().upper()] = value.strip()"
   ]
  },
  {
   "cell_type": "code",
   "execution_count": 12,
   "id": "3481f431-16f5-4a03-a3a8-6f7f4dbb693f",
   "metadata": {},
   "outputs": [
    {
     "name": "stdout",
     "output_type": "stream",
     "text": [
      "[('AFAIK', 'As Far As I Know'), ('AFK', 'Away From Keyboard'), ('ASAP', 'As Soon As Possible'), ('ATK', 'At The Keyboard'), ('ATM', 'At The Moment')]\n"
     ]
    }
   ],
   "source": [
    "print(list(chat_words.items())[:5])  # Show first 5 key-value pairs"
   ]
  },
  {
   "cell_type": "code",
   "execution_count": 13,
   "id": "26da262a-0d63-4b4f-90de-cd4ce2bc8032",
   "metadata": {},
   "outputs": [],
   "source": [
    "def chat_conversion(text):\n",
    "    new_text = []\n",
    "    for w in text.split():\n",
    "        if w.upper() in chat_words:\n",
    "            new_text.append(chat_words[w.upper()])\n",
    "        else:\n",
    "            new_text.append(w)\n",
    "    return \" \".join(new_text)\n",
    "\n",
    "df['description_corrected'] = df['description_corrected'].apply(chat_conversion)"
   ]
  },
  {
   "cell_type": "code",
   "execution_count": 14,
   "id": "15582a04-0eda-4fb5-88ec-b88617025fec",
   "metadata": {},
   "outputs": [
    {
     "data": {
      "text/plain": [
       "'A young girl had her voice magically taken away so that she would never hurt people with it but her outlook changes when she encounters music and friendship Will Naruse be able to convey the anthem of her heart'"
      ]
     },
     "execution_count": 14,
     "metadata": {},
     "output_type": "execute_result"
    }
   ],
   "source": [
    "df['description_corrected'][1000]"
   ]
  },
  {
   "cell_type": "markdown",
   "id": "10b5657a-60fd-4d26-b65c-7669a3afaf82",
   "metadata": {},
   "source": [
    "## 3. Lower Casing"
   ]
  },
  {
   "cell_type": "code",
   "execution_count": 15,
   "id": "2128a7b6-5286-4e98-907d-e3b1c62d9bf3",
   "metadata": {},
   "outputs": [
    {
     "data": {
      "text/html": [
       "<div>\n",
       "<style scoped>\n",
       "    .dataframe tbody tr th:only-of-type {\n",
       "        vertical-align: middle;\n",
       "    }\n",
       "\n",
       "    .dataframe tbody tr th {\n",
       "        vertical-align: top;\n",
       "    }\n",
       "\n",
       "    .dataframe thead th {\n",
       "        text-align: right;\n",
       "    }\n",
       "</style>\n",
       "<table border=\"1\" class=\"dataframe\">\n",
       "  <thead>\n",
       "    <tr style=\"text-align: right;\">\n",
       "      <th></th>\n",
       "      <th>Unnamed: 0</th>\n",
       "      <th>original_title</th>\n",
       "      <th>overview</th>\n",
       "      <th>genre_ids</th>\n",
       "      <th>genre_names</th>\n",
       "      <th>description_corrected</th>\n",
       "    </tr>\n",
       "  </thead>\n",
       "  <tbody>\n",
       "    <tr>\n",
       "      <th>0</th>\n",
       "      <td>0</td>\n",
       "      <td>The Shawshank Redemption</td>\n",
       "      <td>Imprisoned in the 1940s for the double murder ...</td>\n",
       "      <td>[18, 80]</td>\n",
       "      <td>Drama, Crime</td>\n",
       "      <td>imprisoned in the 1940s for the double murder ...</td>\n",
       "    </tr>\n",
       "    <tr>\n",
       "      <th>1</th>\n",
       "      <td>1</td>\n",
       "      <td>The Godfather</td>\n",
       "      <td>Spanning the years 1945 to 1955, a chronicle o...</td>\n",
       "      <td>[18, 80]</td>\n",
       "      <td>Drama, Crime</td>\n",
       "      <td>spanning the years 1945 to 1955 a chronicle of...</td>\n",
       "    </tr>\n",
       "    <tr>\n",
       "      <th>2</th>\n",
       "      <td>2</td>\n",
       "      <td>The Godfather Part II</td>\n",
       "      <td>In the continuing saga of the Corleone crime f...</td>\n",
       "      <td>[18, 80]</td>\n",
       "      <td>Drama, Crime</td>\n",
       "      <td>in the continuing saga of the corleone crime f...</td>\n",
       "    </tr>\n",
       "    <tr>\n",
       "      <th>3</th>\n",
       "      <td>3</td>\n",
       "      <td>Schindler's List</td>\n",
       "      <td>The true story of how businessman Oskar Schind...</td>\n",
       "      <td>[18, 36, 10752]</td>\n",
       "      <td>Drama, History, War</td>\n",
       "      <td>the true story of how businessman oskar schind...</td>\n",
       "    </tr>\n",
       "    <tr>\n",
       "      <th>4</th>\n",
       "      <td>4</td>\n",
       "      <td>12 Angry Men</td>\n",
       "      <td>The defense and the prosecution have rested an...</td>\n",
       "      <td>[18]</td>\n",
       "      <td>Drama</td>\n",
       "      <td>the defense and the prosecution have rested an...</td>\n",
       "    </tr>\n",
       "    <tr>\n",
       "      <th>...</th>\n",
       "      <td>...</td>\n",
       "      <td>...</td>\n",
       "      <td>...</td>\n",
       "      <td>...</td>\n",
       "      <td>...</td>\n",
       "      <td>...</td>\n",
       "    </tr>\n",
       "    <tr>\n",
       "      <th>9995</th>\n",
       "      <td>9995</td>\n",
       "      <td>The Last Airbender</td>\n",
       "      <td>The story follows the adventures of Aang, a yo...</td>\n",
       "      <td>[28, 12, 14]</td>\n",
       "      <td>Action, Adventure, Fantasy</td>\n",
       "      <td>the story follows the adventures of aang a you...</td>\n",
       "    </tr>\n",
       "    <tr>\n",
       "      <th>9996</th>\n",
       "      <td>9996</td>\n",
       "      <td>From Dusk Till Dawn 2: Texas Blood Money</td>\n",
       "      <td>A bank-robbing gang of misfits heads to Mexico...</td>\n",
       "      <td>[80, 28, 27, 53]</td>\n",
       "      <td>Crime, Action, Horror, Thriller</td>\n",
       "      <td>a bankrobbing gang of misfits heads to mexico ...</td>\n",
       "    </tr>\n",
       "    <tr>\n",
       "      <th>9997</th>\n",
       "      <td>9997</td>\n",
       "      <td>Cage Dive</td>\n",
       "      <td>Three friends from California are filming an a...</td>\n",
       "      <td>[27, 18, 53]</td>\n",
       "      <td>Horror, Drama, Thriller</td>\n",
       "      <td>three friends from california are filming an a...</td>\n",
       "    </tr>\n",
       "    <tr>\n",
       "      <th>9998</th>\n",
       "      <td>9998</td>\n",
       "      <td>Street Fighter</td>\n",
       "      <td>Col. Guile and various other martial arts hero...</td>\n",
       "      <td>[28, 12, 35, 53]</td>\n",
       "      <td>Action, Adventure, Comedy, Thriller</td>\n",
       "      <td>col guile and various other martial arts heroe...</td>\n",
       "    </tr>\n",
       "    <tr>\n",
       "      <th>9999</th>\n",
       "      <td>9999</td>\n",
       "      <td>Devil's Due</td>\n",
       "      <td>An unexpected pregnancy takes a terrifying tur...</td>\n",
       "      <td>[27]</td>\n",
       "      <td>Horror</td>\n",
       "      <td>an unexpected pregnancy takes a terrifying tur...</td>\n",
       "    </tr>\n",
       "  </tbody>\n",
       "</table>\n",
       "<p>10000 rows × 6 columns</p>\n",
       "</div>"
      ],
      "text/plain": [
       "      Unnamed: 0                            original_title  \\\n",
       "0              0                  The Shawshank Redemption   \n",
       "1              1                             The Godfather   \n",
       "2              2                     The Godfather Part II   \n",
       "3              3                          Schindler's List   \n",
       "4              4                              12 Angry Men   \n",
       "...          ...                                       ...   \n",
       "9995        9995                        The Last Airbender   \n",
       "9996        9996  From Dusk Till Dawn 2: Texas Blood Money   \n",
       "9997        9997                                 Cage Dive   \n",
       "9998        9998                            Street Fighter   \n",
       "9999        9999                               Devil's Due   \n",
       "\n",
       "                                               overview         genre_ids  \\\n",
       "0     Imprisoned in the 1940s for the double murder ...          [18, 80]   \n",
       "1     Spanning the years 1945 to 1955, a chronicle o...          [18, 80]   \n",
       "2     In the continuing saga of the Corleone crime f...          [18, 80]   \n",
       "3     The true story of how businessman Oskar Schind...   [18, 36, 10752]   \n",
       "4     The defense and the prosecution have rested an...              [18]   \n",
       "...                                                 ...               ...   \n",
       "9995  The story follows the adventures of Aang, a yo...      [28, 12, 14]   \n",
       "9996  A bank-robbing gang of misfits heads to Mexico...  [80, 28, 27, 53]   \n",
       "9997  Three friends from California are filming an a...      [27, 18, 53]   \n",
       "9998  Col. Guile and various other martial arts hero...  [28, 12, 35, 53]   \n",
       "9999  An unexpected pregnancy takes a terrifying tur...              [27]   \n",
       "\n",
       "                              genre_names  \\\n",
       "0                            Drama, Crime   \n",
       "1                            Drama, Crime   \n",
       "2                            Drama, Crime   \n",
       "3                     Drama, History, War   \n",
       "4                                   Drama   \n",
       "...                                   ...   \n",
       "9995           Action, Adventure, Fantasy   \n",
       "9996      Crime, Action, Horror, Thriller   \n",
       "9997              Horror, Drama, Thriller   \n",
       "9998  Action, Adventure, Comedy, Thriller   \n",
       "9999                               Horror   \n",
       "\n",
       "                                  description_corrected  \n",
       "0     imprisoned in the 1940s for the double murder ...  \n",
       "1     spanning the years 1945 to 1955 a chronicle of...  \n",
       "2     in the continuing saga of the corleone crime f...  \n",
       "3     the true story of how businessman oskar schind...  \n",
       "4     the defense and the prosecution have rested an...  \n",
       "...                                                 ...  \n",
       "9995  the story follows the adventures of aang a you...  \n",
       "9996  a bankrobbing gang of misfits heads to mexico ...  \n",
       "9997  three friends from california are filming an a...  \n",
       "9998  col guile and various other martial arts heroe...  \n",
       "9999  an unexpected pregnancy takes a terrifying tur...  \n",
       "\n",
       "[10000 rows x 6 columns]"
      ]
     },
     "execution_count": 15,
     "metadata": {},
     "output_type": "execute_result"
    }
   ],
   "source": [
    "df['description_corrected'] = df['description_corrected'].str.lower()\n",
    "\n",
    "df"
   ]
  },
  {
   "cell_type": "markdown",
   "id": "e9901d1b-c351-4820-88ca-a3d53275d811",
   "metadata": {},
   "source": [
    "## 4. Spelling Correction"
   ]
  },
  {
   "cell_type": "code",
   "execution_count": 16,
   "id": "6d742b84-f3d7-4dce-ba9c-d5eda0bef1d6",
   "metadata": {},
   "outputs": [],
   "source": [
    "# def correct_text(text):\n",
    "#     try:\n",
    "#         return (TextBlob(text).correct().astype(str))\n",
    "#     except:\n",
    "#         return text\n",
    "\n",
    "# df['description_corrected'] = df['description_corrected'].apply(correct_text)"
   ]
  },
  {
   "cell_type": "code",
   "execution_count": 17,
   "id": "7025a33e-29f9-47c2-97f4-3027520d2cb0",
   "metadata": {},
   "outputs": [
    {
     "data": {
      "text/plain": [
       "'island farmer banana joe helps the local community by trading his bananas for goods when gangsters arrive with plans to construct a banana processing plant joe kicks them out but the mob boss discovers that joe is operating without a license after the mob tips off the authorities and joes boat is impounded he ventures into a big city for the first tears in my eyes to seek help'"
      ]
     },
     "execution_count": 17,
     "metadata": {},
     "output_type": "execute_result"
    }
   ],
   "source": [
    "df['description_corrected'][5000]"
   ]
  },
  {
   "cell_type": "markdown",
   "id": "6225700c-f4ed-4da6-bf02-5b5432957c30",
   "metadata": {},
   "source": [
    "## 5. Removing Stopwords"
   ]
  },
  {
   "cell_type": "code",
   "execution_count": 18,
   "id": "370b7559-2fb0-4ef2-a81d-b4b5b61f1d2a",
   "metadata": {},
   "outputs": [],
   "source": [
    "# import nltk\n",
    "# nltk.download('stopwords')"
   ]
  },
  {
   "cell_type": "code",
   "execution_count": 19,
   "id": "21c13e5c-7178-4f5a-ad8c-b565b0ffe890",
   "metadata": {},
   "outputs": [
    {
     "name": "stdout",
     "output_type": "stream",
     "text": [
      "['a', 'about', 'above', 'after', 'again']\n"
     ]
    }
   ],
   "source": [
    "print(list(stopwords.words('english')[:5]))  # Show first 5 key-value pairs"
   ]
  },
  {
   "cell_type": "code",
   "execution_count": 20,
   "id": "7f401a24-d244-4a04-803f-22542e0b10a6",
   "metadata": {},
   "outputs": [],
   "source": [
    "def remove_stopwords(text):\n",
    "    new_text = []\n",
    "    \n",
    "    for word in text.split():\n",
    "        if word in stopwords.words('english'):\n",
    "            new_text.append('')\n",
    "        else:\n",
    "            new_text.append(word)\n",
    "    x = new_text[:]\n",
    "    new_text.clear()\n",
    "    return \" \".join(x)\n",
    "\n",
    "df['description_corrected'] = df['description_corrected'].apply(remove_stopwords)"
   ]
  },
  {
   "cell_type": "code",
   "execution_count": 21,
   "id": "df6f5e4b-72c7-47b7-9604-6b8cf97a7fc1",
   "metadata": {},
   "outputs": [
    {
     "data": {
      "text/plain": [
       "' unexpected pregnancy takes  terrifying turn  newlyweds zach  samantha mccall'"
      ]
     },
     "execution_count": 21,
     "metadata": {},
     "output_type": "execute_result"
    }
   ],
   "source": [
    "df['description_corrected'][9999]"
   ]
  },
  {
   "cell_type": "markdown",
   "id": "595cc0f9-503f-4b19-bdb9-564e8899448a",
   "metadata": {},
   "source": [
    "## 6. Handling Emojis"
   ]
  },
  {
   "cell_type": "code",
   "execution_count": 22,
   "id": "0a1edb56-dbef-4b72-97a1-2d80dabb7916",
   "metadata": {},
   "outputs": [
    {
     "data": {
      "text/plain": [
       "'col guile  various  martial arts heroes fight   tyranny  dictator  bison   cohorts'"
      ]
     },
     "execution_count": 22,
     "metadata": {},
     "output_type": "execute_result"
    }
   ],
   "source": [
    "df['description_corrected'] = df['description_corrected'].apply(emoji.demojize)\n",
    "\n",
    "df['description_corrected'][9998]"
   ]
  },
  {
   "cell_type": "markdown",
   "id": "910f42ff-8f12-4270-9be2-8daf3c110e68",
   "metadata": {},
   "source": [
    "## 7. Tokenization"
   ]
  },
  {
   "cell_type": "code",
   "execution_count": 23,
   "id": "f7fbbe11-2cd3-420d-8a23-306e2d026e60",
   "metadata": {},
   "outputs": [
    {
     "data": {
      "text/plain": [
       "0       (imprisoned,   , 1940s,   , double, murder,   ...\n",
       "1       (spanning,  , years, 1945,  , 1955,  , chronic...\n",
       "2       (  , continuing, saga,   , corleone, crime, fa...\n",
       "3       ( , true, story,   , businessman, oskar, schin...\n",
       "4       ( , defense,   , prosecution,  , rested,   , j...\n",
       "                              ...                        \n",
       "9995    ( , story, follows,  , adventures,  , aang,  ,...\n",
       "9996    ( , bankrobbing, gang,  , misfits, heads,  , m...\n",
       "9997    (three, friends,  , california,  , filming,  ,...\n",
       "9998    (col, guile,  , various,  , martial, arts, her...\n",
       "9999    ( , unexpected, pregnancy, takes,  , terrifyin...\n",
       "Name: description_tokenized, Length: 10000, dtype: object"
      ]
     },
     "execution_count": 23,
     "metadata": {},
     "output_type": "execute_result"
    }
   ],
   "source": [
    "nlp = spacy.load('en_core_web_sm')\n",
    "\n",
    "df['description_tokenized'] = df['description_corrected'].apply(nlp)\n",
    "\n",
    "df['description_tokenized']"
   ]
  },
  {
   "cell_type": "code",
   "execution_count": 24,
   "id": "45d00b41-7bb7-498c-89d6-7a113303acb7",
   "metadata": {},
   "outputs": [
    {
     "data": {
      "text/plain": [
       "island farmer banana joe helps  local community  trading  bananas  goods  gangsters arrive  plans  construct  banana processing plant joe kicks     mob boss discovers  joe  operating without  license   mob tips   authorities  joes boat  impounded  ventures   big city   first tears   eyes  seek help"
      ]
     },
     "execution_count": 24,
     "metadata": {},
     "output_type": "execute_result"
    }
   ],
   "source": [
    "df['description_tokenized'][5000]"
   ]
  },
  {
   "cell_type": "markdown",
   "id": "b74e4fde-d491-4303-b79a-6ba5f55a9e8c",
   "metadata": {},
   "source": [
    "## 8. Stemming"
   ]
  },
  {
   "cell_type": "code",
   "execution_count": 25,
   "id": "0b6f8b5d-0161-414a-b480-40673377e6b7",
   "metadata": {},
   "outputs": [],
   "source": [
    "# Initialize the Porter Stemmer\n",
    "ps = PorterStemmer()\n",
    "\n",
    "def stem_words(text):\n",
    "    if not isinstance(text, str):\n",
    "        return \"\"\n",
    "    tokens = word_tokenize(text)\n",
    "    stems = [ps.stem(word) for word in tokens]\n",
    "    return \" \".join(stems).strip()"
   ]
  },
  {
   "cell_type": "code",
   "execution_count": 26,
   "id": "460591c3-0229-4112-8cdd-0211f1ff1fc9",
   "metadata": {},
   "outputs": [],
   "source": [
    "df['description_corrected_stemming'] = df['description_corrected'].apply(stem_words)"
   ]
  },
  {
   "cell_type": "code",
   "execution_count": 27,
   "id": "915d6a42-ba22-4200-82fd-c1e0a396dda5",
   "metadata": {},
   "outputs": [
    {
     "data": {
      "text/plain": [
       "'island farmer banana joe help local commun trade banana good gangster arriv plan construct banana process plant joe kick mob boss discov joe oper without licens mob tip author joe boat impound ventur big citi first tear eye seek help'"
      ]
     },
     "execution_count": 27,
     "metadata": {},
     "output_type": "execute_result"
    }
   ],
   "source": [
    "df['description_corrected_stemming'][5000]"
   ]
  },
  {
   "cell_type": "markdown",
   "id": "084178fa-a13e-460b-ba57-6ab41de5da83",
   "metadata": {},
   "source": [
    "## Lemmatization"
   ]
  },
  {
   "cell_type": "code",
   "execution_count": 28,
   "id": "f6fc62b3-15e7-4d72-b77d-9a62f3b787a6",
   "metadata": {},
   "outputs": [],
   "source": [
    "from nltk.stem import WordNetLemmatizer\n",
    "wordnet_lemmatizer = WordNetLemmatizer()"
   ]
  },
  {
   "cell_type": "code",
   "execution_count": 29,
   "id": "07ffc041-3cac-4817-952d-608ea8e91d87",
   "metadata": {},
   "outputs": [],
   "source": [
    "lemmatizer = WordNetLemmatizer()\n",
    "\n",
    "def lemmatize_text(text):\n",
    "    if not isinstance(text, str):\n",
    "        return \"\"\n",
    "    tokens = word_tokenize(text)\n",
    "    lemmatized = [lemmatizer.lemmatize(word) for word in tokens]\n",
    "    return \" \".join(lemmatized)"
   ]
  },
  {
   "cell_type": "code",
   "execution_count": 30,
   "id": "414cd940-1c48-4cf1-99cf-c0539b5719ff",
   "metadata": {},
   "outputs": [
    {
     "data": {
      "text/plain": [
       "'burgerloving hit man philosophical partner drugaddled gangster moll washedup boxer converge sprawling comedic crime caper adventure unfurl three story ingeniously trip back forth tear eye'"
      ]
     },
     "execution_count": 30,
     "metadata": {},
     "output_type": "execute_result"
    }
   ],
   "source": [
    "df['description_corrected_lemmatize'] = df['description_corrected'].apply(lemmatize_text)\n",
    "\n",
    "df['description_corrected_lemmatize'][10]"
   ]
  },
  {
   "cell_type": "code",
   "execution_count": 31,
   "id": "1372d333-b64e-4984-bc0e-ea3d95f01f35",
   "metadata": {},
   "outputs": [
    {
     "data": {
      "text/plain": [
       "'island farmer banana joe help local community trading banana good gangster arrive plan construct banana processing plant joe kick mob bos discovers joe operating without license mob tip authority joes boat impounded venture big city first tear eye seek help'"
      ]
     },
     "execution_count": 31,
     "metadata": {},
     "output_type": "execute_result"
    }
   ],
   "source": [
    "df['description_corrected_lemmatize'][5000]"
   ]
  },
  {
   "cell_type": "code",
   "execution_count": 32,
   "id": "a5644e48-2969-4ef3-b194-41e51bf7f8da",
   "metadata": {},
   "outputs": [],
   "source": [
    "df.to_csv(\"data/preprocessed_data.csv\")"
   ]
  }
 ],
 "metadata": {
  "kernelspec": {
   "display_name": "Python 3 (ipykernel)",
   "language": "python",
   "name": "python3"
  },
  "language_info": {
   "codemirror_mode": {
    "name": "ipython",
    "version": 3
   },
   "file_extension": ".py",
   "mimetype": "text/x-python",
   "name": "python",
   "nbconvert_exporter": "python",
   "pygments_lexer": "ipython3",
   "version": "3.8.13"
  }
 },
 "nbformat": 4,
 "nbformat_minor": 5
}
